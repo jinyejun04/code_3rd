{
  "nbformat": 4,
  "nbformat_minor": 0,
  "metadata": {
    "colab": {
      "provenance": [],
      "authorship_tag": "ABX9TyMGk13XOEHLcBswJedKqPRX",
      "include_colab_link": true
    },
    "kernelspec": {
      "name": "python3",
      "display_name": "Python 3"
    },
    "language_info": {
      "name": "python"
    }
  },
  "cells": [
    {
      "cell_type": "markdown",
      "metadata": {
        "id": "view-in-github",
        "colab_type": "text"
      },
      "source": [
        "<a href=\"https://colab.research.google.com/github/jinyejun04/code_3rd/blob/main/CTBA_9.ipynb\" target=\"_parent\"><img src=\"https://colab.research.google.com/assets/colab-badge.svg\" alt=\"Open In Colab\"/></a>"
      ]
    },
    {
      "cell_type": "markdown",
      "source": [
        "1. 두가지 이상의 선택, 다방향 선택구조 코딩\n",
        " - 배송료처리 3가지로 작성\n",
        " - 변수: price, 가격 10만원 이상 0원, 2만원이상 3000원, 그 외 5000원"
      ],
      "metadata": {
        "id": "03P4NRq4OVew"
      }
    },
    {
      "cell_type": "code",
      "source": [
        "print(\"배송료를 계산합니다.\")\n",
        "print(\"#\" * 30)\n",
        "price = int(input(\"구입금액 입력: \"))\n",
        "if price >= 10000:\n",
        "  shipping_cost = 0\n",
        "else:\n",
        "   if price >= 20000:\n",
        "     shippin_cost = 3000\n",
        "   else:\n",
        "    shipping_cost = 5000\n",
        "print(f'배송료는 {shipping_cost}원 입니다.')"
      ],
      "metadata": {
        "colab": {
          "base_uri": "https://localhost:8080/"
        },
        "id": "4ul_rmmDNFGQ",
        "outputId": "f13fba15-a590-4865-f7c4-5d3c2222093d"
      },
      "execution_count": 84,
      "outputs": [
        {
          "output_type": "stream",
          "name": "stdout",
          "text": [
            "배송료를 계산합니다.\n",
            "##############################\n",
            "구입금액 입력: 19000\n",
            "배송료는 0원 입니다.\n"
          ]
        }
      ]
    },
    {
      "cell_type": "markdown",
      "source": [
        "2. 환영합니다. 5번 출력, 10번 출력, 30번 출력"
      ],
      "metadata": {
        "id": "2Vv5LpgTOXb3"
      }
    },
    {
      "cell_type": "code",
      "source": [
        "print(\"환영합니다.\")\n",
        "print(\"환영합니다.\")\n",
        "print(\"환영합니다.\")\n",
        "print(\"환영합니다.\")\n",
        "print(\"환영합니다.\")"
      ],
      "metadata": {
        "colab": {
          "base_uri": "https://localhost:8080/"
        },
        "id": "l8lrq-fROer3",
        "outputId": "1ce03af6-401c-4690-cd34-0e2fdf1ec8db"
      },
      "execution_count": 9,
      "outputs": [
        {
          "output_type": "stream",
          "name": "stdout",
          "text": [
            "환영합니다.\n",
            "환영합니다.\n",
            "환영합니다.\n",
            "환영합니다.\n",
            "환영합니다.\n"
          ]
        }
      ]
    },
    {
      "cell_type": "code",
      "source": [
        "print(\"환영합니다.\\n\" * 5)"
      ],
      "metadata": {
        "colab": {
          "base_uri": "https://localhost:8080/"
        },
        "id": "Am5TGHyYOpsX",
        "outputId": "9513dd05-237e-4a7b-dd55-d373c85b67e4"
      },
      "execution_count": 8,
      "outputs": [
        {
          "output_type": "stream",
          "name": "stdout",
          "text": [
            "환영합니다.\n",
            "환영합니다.\n",
            "환영합니다.\n",
            "환영합니다.\n",
            "환영합니다.\n",
            "\n"
          ]
        }
      ]
    },
    {
      "cell_type": "code",
      "source": [
        "count = 1\n",
        "while count <= 5:\n",
        "   print(\"(\", count, \")\", \"환영합니다.\")\n",
        "   print(F'({count})', \"환영합니다.\")\n",
        "   #count = count + 1\n",
        "   count += 1"
      ],
      "metadata": {
        "colab": {
          "base_uri": "https://localhost:8080/"
        },
        "id": "WdFnlvzDSiX4",
        "outputId": "94ca35fd-55d9-40ce-a3e2-8894ee1863c1"
      },
      "execution_count": 34,
      "outputs": [
        {
          "output_type": "stream",
          "name": "stdout",
          "text": [
            "( 1 ) 환영합니다.\n",
            "(1) 환영합니다.\n",
            "( 2 ) 환영합니다.\n",
            "(2) 환영합니다.\n",
            "( 3 ) 환영합니다.\n",
            "(3) 환영합니다.\n",
            "( 4 ) 환영합니다.\n",
            "(4) 환영합니다.\n",
            "( 5 ) 환영합니다.\n",
            "(5) 환영합니다.\n"
          ]
        }
      ]
    },
    {
      "cell_type": "markdown",
      "source": [
        "3. 0부터 9까지 출력하는 코드 작성\n",
        " - 변수: x"
      ],
      "metadata": {
        "id": "c-CAOi7eUvf_"
      }
    },
    {
      "cell_type": "code",
      "source": [
        "x = 1\n",
        "while x <10:\n",
        "  print(x,end=' ')\n",
        "  x += 1"
      ],
      "metadata": {
        "colab": {
          "base_uri": "https://localhost:8080/"
        },
        "id": "RcK3KGS2U3m4",
        "outputId": "9a5bc83d-6833-48bf-aaf0-68d9573acc39"
      },
      "execution_count": 42,
      "outputs": [
        {
          "output_type": "stream",
          "name": "stdout",
          "text": [
            "1 2 3 4 5 6 7 8 9 "
          ]
        }
      ]
    },
    {
      "cell_type": "markdown",
      "source": [
        "4. 1부터 10까지 정수릐 합을 계산하여 출력하는 코드\n",
        " - 변수:x\n",
        ""
      ],
      "metadata": {
        "id": "O4pR9-ZLYcNH"
      }
    },
    {
      "cell_type": "code",
      "source": [
        "x = 1\n",
        "total = 0\n",
        "while x <= 10:\n",
        "  total = total + x\n",
        "  x += 1\n",
        "print(total)"
      ],
      "metadata": {
        "colab": {
          "base_uri": "https://localhost:8080/"
        },
        "id": "J3xO9qrKYn6H",
        "outputId": "a573670d-bc3e-4324-87c0-79505f47262b"
      },
      "execution_count": 91,
      "outputs": [
        {
          "output_type": "stream",
          "name": "stdout",
          "text": [
            "55\n"
          ]
        }
      ]
    },
    {
      "cell_type": "code",
      "source": [
        "x = 1\n",
        "while x <= 10:\n",
        "  print"
      ],
      "metadata": {
        "id": "Y7KpV01eY5U-"
      },
      "execution_count": null,
      "outputs": []
    },
    {
      "cell_type": "markdown",
      "source": [
        "5. 3-6-9 게임: (3의 배수 판단): 3의 배수를 3으로 나누면 나머지가 0이 되므로 (i mod 3)의 값이 0이면 박수를 출력, 아니면 숫자를 출력해주는 코드 작성"
      ],
      "metadata": {
        "id": "kZ79ntGmVpXP"
      }
    },
    {
      "cell_type": "code",
      "source": [
        "i = 0                         #변수 i는 0으로 선언\n",
        "while i <= 30:                #반복문 while사용해서 i가 30보다 작거나 같을때\n",
        "  if i % 3 == 0:              #만약 i값을 3으로 나눈 나머지가 0이면\n",
        "    print(\"박수\", end=' ')    #박수를 출력하고, 공백을 하나 만듦\n",
        "  else:                       #위의 것이 아니면,\n",
        "    print(i, end=' ')         #i값만 출력하고 공백 하나 만듦\n",
        "  i += 1                      #변수 i값에 i와 1을 더해서 다시 변수 i에 선언"
      ],
      "metadata": {
        "colab": {
          "base_uri": "https://localhost:8080/"
        },
        "id": "goA7p1qSV-Cl",
        "outputId": "a1465c0c-5cbe-4493-f9f9-0d04ac4a99a3"
      },
      "execution_count": 68,
      "outputs": [
        {
          "output_type": "stream",
          "name": "stdout",
          "text": [
            "박수 1 2 박수 4 5 박수 7 8 박수 10 11 박수 13 14 박수 16 17 박수 19 20 박수 22 23 박수 25 26 박수 28 29 박수 "
          ]
        }
      ]
    },
    {
      "cell_type": "code",
      "source": [
        "for num in range(1, 11):     #1부터 11까지의 숫자를 반복\n",
        "  if num % 3 == 0:           #숫자(num)를 3으로 나눈 나머지가 0인경우\n",
        "    print(\"박수\", end=' ')   #박수를 출력하고 공백 만듦\n",
        "  else:                      #그게 아니면\n",
        "    print(num, end=' ')      #숫자만 출력하고 공뱍"
      ],
      "metadata": {
        "colab": {
          "base_uri": "https://localhost:8080/"
        },
        "id": "u4gTR7UDZPz3",
        "outputId": "6aba6337-d5d8-468b-c08f-7b07cbb6bd61"
      },
      "execution_count": 69,
      "outputs": [
        {
          "output_type": "stream",
          "name": "stdout",
          "text": [
            "1 2 박수 4 5 박수 7 8 박수 10 "
          ]
        }
      ]
    },
    {
      "cell_type": "markdown",
      "source": [
        "6. 팩토리얼 계산하는 코드 작성"
      ],
      "metadata": {
        "id": "5zn39RRRabiX"
      }
    },
    {
      "cell_type": "code",
      "source": [
        "i = 4\n",
        "factorial = 1\n",
        "while i >= 1:\n",
        "  factorial = factorial * i\n",
        "  i -= 1\n",
        "print(factorial)"
      ],
      "metadata": {
        "colab": {
          "base_uri": "https://localhost:8080/"
        },
        "id": "3sc3eJz0af5G",
        "outputId": "6b309d55-00c8-495a-cd7e-a620d4616b7b"
      },
      "execution_count": 88,
      "outputs": [
        {
          "output_type": "stream",
          "name": "stdout",
          "text": [
            "24\n"
          ]
        }
      ]
    },
    {
      "cell_type": "code",
      "source": [
        "num = int(input(\"팩토리얼 값입력: \"))\n",
        "factorial = 1\n",
        "while num >= 1:\n",
        "  factorial = factorial * num\n",
        "  num -= 1\n",
        "print(\"계산된 팩토리얼 값은: \", factorial)"
      ],
      "metadata": {
        "colab": {
          "base_uri": "https://localhost:8080/"
        },
        "id": "vfsgAEQNa1QO",
        "outputId": "14256e25-bfc0-4c69-a13d-18c3c9ea668d"
      },
      "execution_count": 82,
      "outputs": [
        {
          "output_type": "stream",
          "name": "stdout",
          "text": [
            "팩토리얼 값입력: 5\n",
            "계산된 팩토리얼 값은:  120\n"
          ]
        }
      ]
    },
    {
      "cell_type": "markdown",
      "source": [
        "+=이랑 -=를 조사하는 레포트\n"
      ],
      "metadata": {
        "id": "6zr4yanBdeYO"
      }
    }
  ]
}