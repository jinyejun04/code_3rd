{
  "nbformat": 4,
  "nbformat_minor": 0,
  "metadata": {
    "colab": {
      "provenance": [],
      "authorship_tag": "ABX9TyNkBU8GqmI3ess62G1ikqRK",
      "include_colab_link": true
    },
    "kernelspec": {
      "name": "python3",
      "display_name": "Python 3"
    },
    "language_info": {
      "name": "python"
    }
  },
  "cells": [
    {
      "cell_type": "markdown",
      "metadata": {
        "id": "view-in-github",
        "colab_type": "text"
      },
      "source": [
        "<a href=\"https://colab.research.google.com/github/jinyejun04/code_3rd/blob/main/CTBL_1.ipynb\" target=\"_parent\"><img src=\"https://colab.research.google.com/assets/colab-badge.svg\" alt=\"Open In Colab\"/></a>"
      ]
    },
    {
      "cell_type": "markdown",
      "source": [
        "1. 학생으로부터 성적을 입력받아 합격유무를 출력하는 코드 작성\n",
        " - 사용변수: grade\n",
        " - 사용수식: grade>= 70:"
      ],
      "metadata": {
        "id": "qGfdEpVD0yPi"
      }
    },
    {
      "cell_type": "code",
      "source": [
        "Grade = int(input(\"성적입력: \"))    # 사용자로부터 성적을 입력받습니다.\n",
        "if Grade >= 70:                     # 성적이 70 이상인 경우\n",
        "   print(\"70점 이상이므로 합격\")    # 합격 메시지를 출력합니다.\n",
        "else:                               # 성적이 70 미만인 경우\n",
        "  print(\"70점 이하는 불합격\")       # 불합격 메시지를 출력합니다."
      ],
      "metadata": {
        "colab": {
          "base_uri": "https://localhost:8080/"
        },
        "id": "I9dtnPxV1RFk",
        "outputId": "268254cc-0548-47f0-c6ac-0eb407d8e22a"
      },
      "execution_count": null,
      "outputs": [
        {
          "output_type": "stream",
          "name": "stdout",
          "text": [
            "성적입력: 80\n",
            "70점 이상이므로 합격\n"
          ]
        }
      ]
    },
    {
      "cell_type": "markdown",
      "source": [
        "2. 쇼핑몰의 배송료를 계산하는 코드 작성\n",
        " - 변수명: price, shipping_cost\n",
        " - 수식: price>= 20000\n",
        " - shipping_cost = 3000"
      ],
      "metadata": {
        "id": "kH3_Renj3ril"
      }
    },
    {
      "cell_type": "code",
      "source": [
        "price = int(input(\"구입금액 입력: \"))                # 사용자로부터 구입금액을 입력받습니다.\n",
        "if price >= 20000:                                   # 구입금액이 2만원 이상인 경우\n",
        "  shippint_cost = 0                                  # 배송료는 0입니다.\n",
        "  print(f'구입 금액이 {price}원 이상입니다. ')        # 구입금액이 2만원 이상임을 출력합니다.\n",
        "else:                                                # 구입금액이 2만원 미만인 경우\n",
        "  shipping_cost = 3000                               # 배송료는 3000원입니다.\n",
        "  print(\"구입금액이 2만원 이하입니다.\")               # 구입금액이 2만원 이하임을 출력합니다.\n",
        "print(f'회원님의 배송료는 {shipping_cost}입니다. ')   # 배송료를 출력합니다."
      ],
      "metadata": {
        "id": "HBhX7nf642NG",
        "colab": {
          "base_uri": "https://localhost:8080/"
        },
        "outputId": "4afd7f48-868b-44bb-f854-389efabbca2a"
      },
      "execution_count": null,
      "outputs": [
        {
          "output_type": "stream",
          "name": "stdout",
          "text": [
            "구입금액 입력: 20000\n",
            "구입 금액이 20000원 이상입니다. \n",
            "회원님의 배송료는 3000입니다. \n"
          ]
        }
      ]
    },
    {
      "cell_type": "markdown",
      "source": [
        "3. 근무시간에 따라 초과근무와 정상근무를 판별하는 코드 작성\n",
        " - 변수: work_hour\n",
        " - 수식: >=, 기준시간 : 72시간"
      ],
      "metadata": {
        "id": "OKj21k2K7fKd"
      }
    },
    {
      "cell_type": "code",
      "source": [
        "work_hour = int(input(\"근무시간 입력: \"))  # 사용자로부터 근무시간을 입력받습니다.\n",
        "if work_hour >= 72:                        # 근무시간이 72 이상인 경우\n",
        "  print(\"초과근무 하였습니다. \")           # 초과근무 메시지를 출력합니다.\n",
        "else:                                      # 근무시간이 72 미만인 경우\n",
        "  print(\"정상근무 하였습니다. \")           # 정상근무 메시지를 출력합니다."
      ],
      "metadata": {
        "colab": {
          "base_uri": "https://localhost:8080/"
        },
        "id": "kOXNB3ad8Wt6",
        "outputId": "376e3994-e9ca-4732-a580-51ab379f8161"
      },
      "execution_count": null,
      "outputs": [
        {
          "output_type": "stream",
          "name": "stdout",
          "text": [
            "근무시간 입력: 73\n",
            "초과근무 하였습니다. \n"
          ]
        }
      ]
    },
    {
      "cell_type": "markdown",
      "source": [
        "4. 정수를 입력받아서 짝수인지 홀수인지 판별하는 코드 작성\n",
        " - 변수: num\n",
        " - 수식: (num % 2) != 0:"
      ],
      "metadata": {
        "id": "GTe67vQs-Ebq"
      }
    },
    {
      "cell_type": "code",
      "source": [
        "num = int(input(\"정수를 입력하시오.\"))   # 사용자로부터 정수를 입력받습니다.\n",
        "if (num % 2) != 0:                       # 입력받은 수가 홀수인 경우\n",
        "  print(\"홀수입니다. \")                  # 홀수 메시지를 출력합니다.\n",
        "else:                                    # 입력받은 수가 짝수인 경우\n",
        "  print(\"짝수입니다. \")                  # 짝수 메시지를 출력합니다."
      ],
      "metadata": {
        "colab": {
          "base_uri": "https://localhost:8080/"
        },
        "id": "aoMngny--VW2",
        "outputId": "322964ff-17a3-4f05-f4cd-2d078600057e"
      },
      "execution_count": null,
      "outputs": [
        {
          "output_type": "stream",
          "name": "stdout",
          "text": [
            "정수를 입력하시오.4\n",
            "짝수입니다. \n"
          ]
        }
      ]
    },
    {
      "cell_type": "markdown",
      "source": [
        "5. 사용자의 이름과 나이를 입력받고, 답변하는 코드 작성\n",
        " - 입력: 성명 - name\n",
        " - 입력: 나이 - age\n",
        " - 수식: if age <= 20:\n",
        "\n",
        " 최종 출력물\n",
        " - 이름을 입력하시오. : ***\n",
        " - 나이를 입력하시오. : **\n",
        " - (1) 프로그래밍을 배우는 최적의 나이입니다.\n",
        " - (2) 아직도 늦지 않았습니다. 도전정신\n"
      ],
      "metadata": {
        "id": "lAEqN-czAmYu"
      }
    },
    {
      "cell_type": "code",
      "source": [
        "name = input(\"이름을 입력하시오. :\")                   # 사용자로부터 이름을 입력받습니다.\n",
        "age = int(input(\"나이를 입력하시오. :\"))               # 사용자로부터 나이를 입력받습니다.\n",
        "if age <= 20:                                          # 나이가 20 이하인 경우\n",
        "  print(\"프로그래밍을 배우는 최적의 나이입니다.\")      # 최적의 나이 메시지를 출력합니다.\n",
        "else:                                                  # 나이가 20 초과인 경우\n",
        "  print(\"아직도 늦지 않았습니다. 도전정신\")            # 도전정신 메시지를 출력합니다."
      ],
      "metadata": {
        "colab": {
          "base_uri": "https://localhost:8080/"
        },
        "id": "3-30WvyNBU6k",
        "outputId": "f2f067a2-f45e-4203-8851-405074c1f85a"
      },
      "execution_count": null,
      "outputs": [
        {
          "output_type": "stream",
          "name": "stdout",
          "text": [
            "이름을 입력하시오. :진예준\n",
            "나이를 입력하시오. :20\n",
            "프로그래밍을 배우는 최적의 나이입니다.\n"
          ]
        }
      ]
    },
    {
      "cell_type": "code",
      "source": [
        "# 필요한 모듈을 불러옵니다.\n",
        "import random\n",
        "\n",
        "def generate_lotto_numbers():\n",
        "    # 1부터 45까지의 숫자를 생성합니다.\n",
        "    numbers = list(range(1, 46))\n",
        "\n",
        "    # 생성된 숫자들 중에서 무작위로 6개의 숫자를 선택합니다.\n",
        "    # random.sample 함수는 주어진 리스트에서 무작위로 n개의 원소를 선택하여 새로운 리스트를 만들어 반환합니다.\n",
        "    lotto = random.sample(numbers, 6)\n",
        "\n",
        "    # 선택된 숫자들을 정렬합니다.\n",
        "    lotto.sort()\n",
        "\n",
        "    # 선택된 숫자들을 반환합니다.\n",
        "    return lotto\n",
        "\n",
        "# 로또 번호를 생성하고 출력합니다.\n",
        "print(generate_lotto_numbers())\n"
      ],
      "metadata": {
        "colab": {
          "base_uri": "https://localhost:8080/"
        },
        "id": "AX82i4jiFTnd",
        "outputId": "762aa3bf-1eaf-4f98-b7d7-1a4a3d8b2f81"
      },
      "execution_count": null,
      "outputs": [
        {
          "output_type": "stream",
          "name": "stdout",
          "text": [
            "[22, 35, 37, 40, 41, 42]\n"
          ]
        }
      ]
    },
    {
      "cell_type": "code",
      "source": [
        "# 사용자로부터 이름을 입력받습니다.\n",
        "# input 함수는 사용자의 키보드 입력을 문자열로 반환합니다.\n",
        "name = input(\"당신의 이름을 입력해주세요: \")\n",
        "\n",
        "# 사용자로부터 나이를 입력받습니다.\n",
        "# 이 경우에도 input 함수를 사용하여 사용자의 입력을 문자열로 받습니다.\n",
        "age = input(\"당신의 나이를 입력해주세요: \")\n",
        "\n",
        "# 입력받은 이름과 나이를 출력합니다.\n",
        "# format 함수를 사용하여 문자열의 {} 부분을 순서대로 name과 age로 치환합니다.\n",
        "print(\"당신의 이름은 {}이고, 나이는 {}살입니다.\".format(name, age))\n"
      ],
      "metadata": {
        "colab": {
          "base_uri": "https://localhost:8080/"
        },
        "id": "DroY3GE7GTQa",
        "outputId": "de009855-f0e6-4c69-fda7-533fff2df80d"
      },
      "execution_count": null,
      "outputs": [
        {
          "output_type": "stream",
          "name": "stdout",
          "text": [
            "당신의 이름을 입력해주세요: 진예준\n",
            "당신의 나이를 입력해주세요: 20\n",
            "당신의 이름은 진예준이고, 나이는 20살입니다.\n"
          ]
        }
      ]
    }
  ]
}