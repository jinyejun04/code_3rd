{
  "nbformat": 4,
  "nbformat_minor": 0,
  "metadata": {
    "colab": {
      "provenance": [],
      "include_colab_link": true
    },
    "kernelspec": {
      "name": "python3",
      "display_name": "Python 3"
    },
    "language_info": {
      "name": "python"
    }
  },
  "cells": [
    {
      "cell_type": "markdown",
      "metadata": {
        "id": "view-in-github",
        "colab_type": "text"
      },
      "source": [
        "<a href=\"https://colab.research.google.com/github/jinyejun04/code_3rd/blob/main/CTC_7_1.ipynb\" target=\"_parent\"><img src=\"https://colab.research.google.com/assets/colab-badge.svg\" alt=\"Open In Colab\"/></a>"
      ]
    },
    {
      "cell_type": "markdown",
      "source": [
        "1. 사용잘부터 3개의 값(x,y,z)을 입력 받아서 각각 1씩 증가되고, 출력되는 코드작성"
      ],
      "metadata": {
        "id": "8t8r8Ov6xhPY"
      }
    },
    {
      "cell_type": "code",
      "execution_count": null,
      "metadata": {
        "colab": {
          "base_uri": "https://localhost:8080/"
        },
        "id": "UY4UIx3swib_",
        "outputId": "79354c77-cf8a-4e7c-ff05-3797036622ce"
      },
      "outputs": [
        {
          "output_type": "stream",
          "name": "stdout",
          "text": [
            "x의 값을 입력하시오.1\n",
            "y의 값을 입력하시오.2\n",
            "z의 값을 입력하시오.3\n",
            "x의 값은 (x)이며, y의 값은 (y)이고, z의 값은 4이다. \n"
          ]
        }
      ],
      "source": [
        "x = int(input(\"x의 값을 입력하시오.\"))                          # 사용자로부터 x의 값을 입력받습니다.\n",
        "y = int(input(\"y의 값을 입력하시오.\"))                          # 사용자로부터 y의 값을 입력받습니다.\n",
        "z = int(input(\"z의 값을 입력하시오.\"))                          # 사용자로부터 z의 값을 입력받습니다.\n",
        "x = x + 1                                                       # x에 1을 더합니다.\n",
        "y = y + 1                                                       # y에 1을 더합니다.\n",
        "z = z + 1                                                       # z에 1을 더합니다.\n",
        "print(f'x의 값은 (x)이며, y의 값은 (y)이고, z의 값은 4이다. ')  # x, y, z의 값을 출력합니다."
      ]
    },
    {
      "cell_type": "markdown",
      "source": [
        "2. 알바생의 시급과 시간을 계산하여 월급을 출력하는 코드"
      ],
      "metadata": {
        "id": "LNG6f_SUyuBY"
      }
    },
    {
      "cell_type": "code",
      "source": [
        "hours_worked = int(input(\"일한 시간을 입력하시오. \"))                 # 사용자로부터 일한 시간을 입력받습니다.\n",
        "pay_rate = int(input(\"시급을 입력하시오(23기준 9620원) \"))            # 사용자로부터 일한 시간을 입력받습니다.\n",
        "monthly_pay = hours_worked * pay_rate                                 # 일한 시간과 시급을 곱하여 월급여를 계산합니다.\n",
        "print(f'일한 시간은 {hours_worked}이고, 시급은 {pay_rate}이며, 월급여는 {monthly_pay}원 입니다. ')   # 월급여를 출력합니다\n"
      ],
      "metadata": {
        "colab": {
          "base_uri": "https://localhost:8080/"
        },
        "id": "wrsHofPxxqmx",
        "outputId": "a7647cfe-7731-404c-c1f4-0bc52ca72ce7"
      },
      "execution_count": null,
      "outputs": [
        {
          "output_type": "stream",
          "name": "stdout",
          "text": [
            "일한 시간을 입력하시오. 10\n",
            "시급을 입력하시오(23기준 9620원) 9620\n",
            "일한 시간은 10이고, 시급은 9620이며, 월급여는 96200원 입니다. \n"
          ]
        }
      ]
    },
    {
      "cell_type": "markdown",
      "source": [
        "3. 환율 계산하는 코드 작성\n",
        "- 원의 변수는 won\n",
        "- 달러의 변수는 used\n",
        "- 환전의 변수는 exchange"
      ],
      "metadata": {
        "id": "c3lXHH2e0CI4"
      }
    },
    {
      "cell_type": "code",
      "source": [
        "won = int(input(\"환전할 금액을 입력(kor) \"))               # 사용자로부터 환전할 금액을 입력받습니다.\n",
        "used = int(input(\"현재의 달러의 환율 입력(231031: 1372)\")) # 사용자로부터 달러의 환율을 입력받습니다.\n",
        "exchange = won//used                                       # 사용자로부터 달러의 환율을 입력받습니다.\n",
        "print(f'환전할 금액은{won}이며, 달러의 금액은{used}이고, 환전금액은{exchange}입니다. ')   # 환전금액을 출력합니다."
      ],
      "metadata": {
        "colab": {
          "base_uri": "https://localhost:8080/"
        },
        "id": "WSw_f_GBy7af",
        "outputId": "0dbe30cf-1287-4fa7-f21e-d6dcc04ba165"
      },
      "execution_count": null,
      "outputs": [
        {
          "output_type": "stream",
          "name": "stdout",
          "text": [
            "환전할 금액을 입력(kor) 5000\n",
            "현재의 달러의 환율 입력(231031: 1372)1372\n",
            "환전할 금액은5000이며, 달러의 금액은1372이고, 환전금액은3입니다. \n"
          ]
        }
      ]
    },
    {
      "cell_type": "markdown",
      "source": [
        "4. 화씨(fahrenheit)를 섭씨(celcius)를 변환하는 코드작성"
      ],
      "metadata": {
        "id": "dCPIyTjb049X"
      }
    },
    {
      "cell_type": "code",
      "source": [
        "fahrenheit = int(input(\"화씨온도를 입력하시오.\"))              # 사용자로부터 화씨온도를 입력받습니다.\n",
        "celcuis = (fahrenheit - 32) / 1.8                              # 화씨온도를 섭씨온도로 변환합니다.\n",
        "print(f'화씨 온도는 {fahrenheit}, 섭씨 {celcuis}도 입니다.')   # 섭씨온도를 출력합니다."
      ],
      "metadata": {
        "colab": {
          "base_uri": "https://localhost:8080/"
        },
        "id": "M8RwRJD_1pEd",
        "outputId": "08ea747b-8f15-4cb5-a547-0c48adece012"
      },
      "execution_count": null,
      "outputs": [
        {
          "output_type": "stream",
          "name": "stdout",
          "text": [
            "화씨온도를 입력하시오.100\n",
            "화씨 온도는 100, 섭씨 37.77777777777778도 입니다.\n"
          ]
        }
      ]
    },
    {
      "cell_type": "code",
      "source": [
        "celcuis = float(input(\"섭씨온도를 입력하시오. \"))                # 사용자로부터 섭씨온도를 입력받습니다.\n",
        "fahrenheit = (celcuis * 1.8) + 32                                # 섭씨온도를 화씨온도로 변환합니다.\n",
        "print(f'섭씨온도는 {celcuis}도는, 화씨{fahrenheit}도 입니다. ')  # 화씨온도를 출력합니다."
      ],
      "metadata": {
        "colab": {
          "base_uri": "https://localhost:8080/"
        },
        "id": "_7K6uSAH2Vg6",
        "outputId": "0485bf6b-3c2c-4378-ef48-76875104e341"
      },
      "execution_count": null,
      "outputs": [
        {
          "output_type": "stream",
          "name": "stdout",
          "text": [
            "섭씨온도를 입력하시오. 37.77777777777778\n",
            "섭씨온도는 37.77777777777778도는, 화씨100.0도 입니다. \n"
          ]
        }
      ]
    },
    {
      "cell_type": "code",
      "source": [
        "print(\"사용자로부터 2개의 정수를 받아서 합계를 출력\")   #사용자로부터 2개의 정수를 받아서 합계를 출력합니다.\n",
        "print(\"정수 2개를 입력하시오.\")                         #사용자로부터 정수 2개를 입력합니다.\n",
        "x = int(input(\"x의 값을 입력하시오.\"))                  # 사용자로부터 x의 값을 입력받습니다.\n",
        "y = int(input(\"y의 값을 입력하시오.\"))                  # 사용자로부터 y의 값을 입력받습니다.\n",
        "sum=x+y                                                 # 두 정수의 합을 계산합니다.\n",
        "print(sum)                                              # 합계를 출력합니다."
      ],
      "metadata": {
        "colab": {
          "base_uri": "https://localhost:8080/"
        },
        "id": "y_7AVKph3j9j",
        "outputId": "9ab6f669-d5ac-4597-a721-9aae98223f9a"
      },
      "execution_count": null,
      "outputs": [
        {
          "output_type": "stream",
          "name": "stdout",
          "text": [
            "사용자로부터 2개의 정수를 받아서 합계를 출력\n",
            "정수 2개를 입력하시오.\n",
            "x의 값을 입력하시오.20\n",
            "y의 값을 입력하시오.40\n",
            "60\n"
          ]
        }
      ]
    },
    {
      "cell_type": "code",
      "source": [
        "print(\"상품의 가격을입력하시오\")\n",
        "price = int(input(\"가격\"))         # 사용자로부터 상품의 가격을 입력받습니다.\n",
        "vat = price * 0.1                  # 부가세를 계산합니다.\n",
        "print(\"부가세\",vat)                # 부가세를 출력합니다."
      ],
      "metadata": {
        "colab": {
          "base_uri": "https://localhost:8080/"
        },
        "id": "bQGdWDai4Ej0",
        "outputId": "f64feee8-5183-487b-c0d7-dae451ce8b9b"
      },
      "execution_count": null,
      "outputs": [
        {
          "output_type": "stream",
          "name": "stdout",
          "text": [
            "상품의 가격을입력하시오\n",
            "가격60\n",
            "부가세 6.0\n"
          ]
        }
      ]
    }
  ]
}