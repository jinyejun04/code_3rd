{
  "nbformat": 4,
  "nbformat_minor": 0,
  "metadata": {
    "colab": {
      "provenance": [],
      "authorship_tag": "ABX9TyMLC1M0UMCgxfB/YJqtTJYa",
      "include_colab_link": true
    },
    "kernelspec": {
      "name": "python3",
      "display_name": "Python 3"
    },
    "language_info": {
      "name": "python"
    }
  },
  "cells": [
    {
      "cell_type": "markdown",
      "metadata": {
        "id": "view-in-github",
        "colab_type": "text"
      },
      "source": [
        "<a href=\"https://colab.research.google.com/github/jinyejun04/code_3rd/blob/main/Untitled0.ipynb\" target=\"_parent\"><img src=\"https://colab.research.google.com/assets/colab-badge.svg\" alt=\"Open In Colab\"/></a>"
      ]
    },
    {
      "cell_type": "code",
      "execution_count": 4,
      "metadata": {
        "colab": {
          "base_uri": "https://localhost:8080/"
        },
        "id": "AjGhrHYTV6Oc",
        "outputId": "39a27cc6-f09c-481d-b79a-20875921e1d7"
      },
      "outputs": [
        {
          "output_type": "stream",
          "name": "stdout",
          "text": [
            "사용자로부터 2개의 정수를 받아서 합계를 출력\n",
            "정수 2개를 입력하시오.\n",
            "x의 값을 입력하시오.20\n",
            "y의 값을 입력하시오.40\n",
            "60\n"
          ]
        }
      ],
      "source": [
        "print(\"사용자로부터 2개의 정수를 받아서 합계를 출력\")\n",
        "print(\"정수 2개를 입력하시오.\")\n",
        "x = int(input(\"x의 값을 입력하시오.\"))\n",
        "y = int(input(\"y의 값을 입력하시오.\"))\n",
        "sum=x+y\n",
        "print(sum)"
      ]
    },
    {
      "cell_type": "code",
      "source": [
        "print(\"상품의 가격을입력하시오\")\n",
        "price = int(input(\"가격\"))\n",
        "vat = price * 0.1\n",
        "print(\"부가세\",vat)"
      ],
      "metadata": {
        "colab": {
          "base_uri": "https://localhost:8080/"
        },
        "id": "1BR2cjSaYQvJ",
        "outputId": "e9fa816b-9193-4b8d-f746-bf2d5d6e5b1f"
      },
      "execution_count": 15,
      "outputs": [
        {
          "output_type": "stream",
          "name": "stdout",
          "text": [
            "상품의 가격을입력하시오\n",
            "가격60\n",
            "부가세 6.0\n"
          ]
        }
      ]
    }
  ]
}