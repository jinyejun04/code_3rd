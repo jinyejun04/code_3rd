{
  "nbformat": 4,
  "nbformat_minor": 0,
  "metadata": {
    "colab": {
      "provenance": [],
      "authorship_tag": "ABX9TyP2JMv5D70U76JG4KKzZMj1",
      "include_colab_link": true
    },
    "kernelspec": {
      "name": "python3",
      "display_name": "Python 3"
    },
    "language_info": {
      "name": "python"
    }
  },
  "cells": [
    {
      "cell_type": "markdown",
      "metadata": {
        "id": "view-in-github",
        "colab_type": "text"
      },
      "source": [
        "<a href=\"https://colab.research.google.com/github/jinyejun04/code_3rd/blob/main/py231019.ipynb\" target=\"_parent\"><img src=\"https://colab.research.google.com/assets/colab-badge.svg\" alt=\"Open In Colab\"/></a>"
      ]
    },
    {
      "cell_type": "code",
      "source": [],
      "metadata": {
        "id": "DWGQIoapwFWk"
      },
      "execution_count": null,
      "outputs": []
    },
    {
      "cell_type": "markdown",
      "source": [
        "1. To-Do List를 작성하시오.\n",
        "  - 2023년 10 월 19일 진예준\n",
        "  - (1) 09:20 도서관에서 책 빌리기\n",
        "  - (2) 11:00 컴퓨팅적사고와 기초코딩 수업\n",
        "  - (3) 13:00 점심식사\n",
        "  - (4) 14:00 교양수업\n",
        "  - (5) 16:00 파이썬 공부 및 레포트 작성\n",
        "  - (6) 17:40 저년식사 및 집안일 돕기\n",
        "  - (7) 19:00 LOL 하기  "
      ],
      "metadata": {
        "id": "InP_ZzGuuWaj"
      }
    },
    {
      "cell_type": "code",
      "source": [
        "print(\"1. To-Do List를 작성하시오. \")\n",
        "print(\" \")\n",
        "print(\"      o (1) 2023년 10월 19일 진예준\")\n",
        "print(\"      o (2) 09:20 도서관에서 책 빌리기\")\n",
        "print(\"      o (3) 11:00 컴퓨팅적사고와 기초코딩 수업\")\n",
        "print(\"      o (4) 14:00 교양수업\")\n",
        "print(\"      o (5) 16:00 파이썬 공부 및 레포트 작성\")\n",
        "print(\"      o (6) 17:40 저녁식사 및 집안일 돕기\")\n",
        "print(\"      o (7) 19:00 LOL 하기\")\n"
      ],
      "metadata": {
        "colab": {
          "base_uri": "https://localhost:8080/"
        },
        "id": "xavFimdhxqhR",
        "outputId": "6f37f354-74cf-4ad4-9060-3f8d826ee5a4"
      },
      "execution_count": 29,
      "outputs": [
        {
          "output_type": "stream",
          "name": "stdout",
          "text": [
            "1. To-Do List를 작성하시오. \n",
            " \n",
            "      o (1) 2023년 10월 19일 진예준\n",
            "      o (2) 09:20 도서관에서 책 빌리기\n",
            "      o (3) 11:00 컴퓨팅적사고와 기초코딩 수업\n",
            "      o (4) 14:00 교양수업\n",
            "      o (5) 16:00 파이썬 공부 및 레포트 작성\n",
            "      o (6) 17:40 저녁식사 및 집안일 돕기\n",
            "      o (7) 19:00 LOL 하기\n"
          ]
        }
      ]
    },
    {
      "cell_type": "markdown",
      "source": [
        "2. 인사말 출력하기\n",
        " - 식사하셨습니까? 행님\n"
      ],
      "metadata": {
        "id": "9Wt1HDc_wUdB"
      }
    },
    {
      "cell_type": "code",
      "source": [
        "print(\"2. 인사말 출력하기\")\n",
        "print(\" \")\n",
        "print(\"      o 식사하셨습니까? 행님\")"
      ],
      "metadata": {
        "colab": {
          "base_uri": "https://localhost:8080/"
        },
        "id": "fXOonxH6xslB",
        "outputId": "1569cf24-755e-46db-c3e2-a23286701790"
      },
      "execution_count": 34,
      "outputs": [
        {
          "output_type": "stream",
          "name": "stdout",
          "text": [
            "2. 인사말 출력하기\n",
            " \n",
            "      o 식사하셨습니까? 행님\n"
          ]
        }
      ]
    },
    {
      "cell_type": "markdown",
      "source": [
        "3. 학생 4명의 국어점수를 입력받아서 아래와 같이 출력하시오.\n",
        " - 박보검: 90점\n",
        " - 션: 92점\n",
        " - 도룡용: 80점\n",
        " - 차은우: 99점\n",
        " - 국어 점수 순위\n",
        " - 1등 차은우\n",
        " - 2등 션\n",
        " - 3등 박보검\n",
        " - 4등 도룡용\n"
      ],
      "metadata": {
        "id": "L3U7rXiFwuJL"
      }
    },
    {
      "cell_type": "code",
      "source": [
        "print(\"3. 학생 4명의 국어점수를 입력 받아서 아래와 같이 출력하시오.\")\n",
        "print(\" \")\n",
        "n1 = input(\"박보검: \")\n",
        "n2 = input(\"션: \")\n",
        "n3 = input(\"도룡용: \")\n",
        "n4 = input(\"차은우: \")\n",
        "print(\"국어 점수 순위\")\n",
        "print(\"1등 차은우\" ,n4,\"점\")\n",
        "print(\"2등 션 \" ,n2,\"점\")\n",
        "print(\"3등 박보검\" ,n1,\"점\")\n",
        "print(\"1등 도룡용\" ,n3,\"점\")"
      ],
      "metadata": {
        "colab": {
          "base_uri": "https://localhost:8080/"
        },
        "id": "fVc6HPH9xtJJ",
        "outputId": "b73d0e27-dd7b-4850-c343-a21a081d2175"
      },
      "execution_count": 76,
      "outputs": [
        {
          "output_type": "stream",
          "name": "stdout",
          "text": [
            "3. 학생 4명의 국어점수를 입력 받아서 아래와 같이 출력하시오.\n",
            " \n",
            "박보검: 90\n",
            "션: 92\n",
            "도룡용: 80\n",
            "차은우: 99\n",
            "국어 점수 순위\n",
            "1등 차은우 99 점\n",
            "2등 션  92 점\n",
            "3등 박보검 90 점\n",
            "1등 도룡용 80 점\n"
          ]
        }
      ]
    },
    {
      "cell_type": "markdown",
      "source": [
        "4. 두개의 점수를 입력받아서 합계와 평균을 출력하시오.\n"
      ],
      "metadata": {
        "id": "Hw5cgWPTxeLr"
      }
    },
    {
      "cell_type": "code",
      "source": [
        "n1 = int(input(\"print N1의 값을 입력하시오\"))\n",
        "n2 = int(input(\"print N2의 값을 입력하시오\"))\n",
        "total = n1 + n2\n",
        "average = total/2\n",
        "print(average)"
      ],
      "metadata": {
        "colab": {
          "base_uri": "https://localhost:8080/"
        },
        "id": "JuRtrP9Rxtrp",
        "outputId": "07af1591-faf3-4912-c6af-e4d773b3dfea"
      },
      "execution_count": 35,
      "outputs": [
        {
          "output_type": "stream",
          "name": "stdout",
          "text": [
            "print N1의 값을 입력하시오10\n",
            "print N2의 값을 입력하시오20\n",
            "15.0\n"
          ]
        }
      ]
    }
  ]
}